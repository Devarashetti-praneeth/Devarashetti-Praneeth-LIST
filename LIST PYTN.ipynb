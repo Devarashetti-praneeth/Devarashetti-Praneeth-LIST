{
 "cells": [
  {
   "cell_type": "markdown",
   "id": "b8cb4579",
   "metadata": {},
   "source": [
    "# 1. Write a Python program to sum all the items and multiply all the items\n"
   ]
  },
  {
   "cell_type": "code",
   "execution_count": 48,
   "id": "07643978",
   "metadata": {},
   "outputs": [
    {
     "name": "stdout",
     "output_type": "stream",
     "text": [
      "sum of all items is: 15\n",
      "multiple of all items is: 120\n"
     ]
    }
   ],
   "source": [
    "p=[1,2,3,4,5]\n",
    "a=sum(p)\n",
    "b=1\n",
    "for i in p:\n",
    "    b=b*i\n",
    "print('sum of all items is:',a)\n",
    "print('multiple of all items is:',b)"
   ]
  },
  {
   "cell_type": "markdown",
   "id": "db326b5c",
   "metadata": {},
   "source": [
    "# 2. Write a Python function that takes two lists and returns True if they have at least one common member. \n",
    "+ Example:\n",
    "+ [1,2,3,4,5], [5,6,7,8,9] = True \n",
    "+ [1,2,3,4,5], [6,7,8,9] = None "
   ]
  },
  {
   "cell_type": "code",
   "execution_count": 23,
   "id": "32f255d5",
   "metadata": {},
   "outputs": [
    {
     "name": "stdout",
     "output_type": "stream",
     "text": [
      "True\n",
      "None\n"
     ]
    }
   ],
   "source": [
    "def a(p,l):\n",
    "    result = False  \n",
    "    for x in p:\n",
    "        for y in l:\n",
    "            if x == y:\n",
    "                result = True  \n",
    "                return result  \n",
    "print(a([1,2,3,4,5], [5,6,7,8,9]))  \n",
    "print(a([1,2,3,4,5], [6,7,8,9]))  \n"
   ]
  },
  {
   "cell_type": "markdown",
   "id": "aada9916",
   "metadata": {},
   "source": [
    "# 3. Write a Python program to compute the difference between two lists. \n",
    "+ Sample data: [\"red\", \"orange\", \"green\", \"blue\", \"white\"], [\"black\", \"yellow\", \"green\", \"blue\"] \n",
    "+ Expected Output: \n",
    "+ Color1-Color2: ['white', 'orange', 'red'] \n",
    "+ Color2-Color1: ['black', 'yellow'] "
   ]
  },
  {
   "cell_type": "code",
   "execution_count": 32,
   "id": "4bdd83ca",
   "metadata": {},
   "outputs": [
    {
     "name": "stdout",
     "output_type": "stream",
     "text": [
      "Color1-Color2: {'white', 'orange', 'red'}\n",
      "Color2-Color1: {'black ', 'yellow'}\n"
     ]
    }
   ],
   "source": [
    "color1 =[\"red\",\"orange\",\"green\",\"blue\",\"white\"]\n",
    "color2= [\"black \",\"yellow\",\"green\",\"blue\"]\n",
    "a=set(color1)\n",
    "b=set(color2)\n",
    "print(\"Color1-Color2:\",a-b)\n",
    "print(\"Color2-Color1:\",b-a)\n"
   ]
  },
  {
   "cell_type": "code",
   "execution_count": null,
   "id": "7037c5dc",
   "metadata": {},
   "outputs": [],
   "source": []
  },
  {
   "cell_type": "code",
   "execution_count": null,
   "id": "ab93cc1e",
   "metadata": {},
   "outputs": [],
   "source": []
  }
 ],
 "metadata": {
  "kernelspec": {
   "display_name": "Python 3 (ipykernel)",
   "language": "python",
   "name": "python3"
  },
  "language_info": {
   "codemirror_mode": {
    "name": "ipython",
    "version": 3
   },
   "file_extension": ".py",
   "mimetype": "text/x-python",
   "name": "python",
   "nbconvert_exporter": "python",
   "pygments_lexer": "ipython3",
   "version": "3.9.13"
  }
 },
 "nbformat": 4,
 "nbformat_minor": 5
}
